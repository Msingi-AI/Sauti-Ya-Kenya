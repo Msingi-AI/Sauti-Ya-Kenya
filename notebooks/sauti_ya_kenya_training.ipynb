{
 "cells": [
  {
   "cell_type": "markdown",
   "metadata": {
    "colab_type": "text",
    "id": "view-in-github"
   },
   "source": [
    "# 🎙️ Sauti Ya Kenya - TTS Training\n",
    "\n",
    "[![Open In Colab](https://colab.research.google.com/assets/colab-badge.svg)](https://colab.research.google.com/github/Msingi-AI/Sauti-Ya-Kenya/blob/main/notebooks/sauti_ya_kenya_training.ipynb)\n",
    "\n",
    "This notebook trains the Kenyan Swahili TTS model with optimized memory usage and GPU acceleration."
   ]
  },
  {
   "cell_type": "code",
   "execution_count": null,
   "metadata": {
    "id": "check_gpu"
   },
   "source": [
    "# Check GPU availability\n",
    "!nvidia-smi"
   ]
  },
  {
   "cell_type": "code",
   "execution_count": null,
   "metadata": {
    "id": "mount_drive"
   },
   "source": [
    "# Mount Google Drive\n",
    "from google.colab import drive\n",
    "drive.mount('/content/drive')\n",
    "\n",
    "# Create project directories\n",
    "!mkdir -p /content/drive/MyDrive/Sauti-Ya-Kenya/{data,checkpoints,logs}"
   ]
  },
  {
   "cell_type": "code",
   "execution_count": null,
   "metadata": {
    "id": "setup_env"
   },
   "source": [
    "# Clean up and clone repository\n",
    "%cd /content\n",
    "!rm -rf Sauti-Ya-Kenya\n",
    "!git clone https://github.com/Msingi-AI/Sauti-Ya-Kenya.git\n",
    "%cd Sauti-Ya-Kenya\n",
    "\n",
    "# Install dependencies\n",
    "!pip install -r requirements.txt\n",
    "\n",
    "# Set up symlinks to Drive\n",
    "!rm -rf data checkpoints\n",
    "!ln -s /content/drive/MyDrive/Sauti-Ya-Kenya/data data\n",
    "!ln -s /content/drive/MyDrive/Sauti-Ya-Kenya/checkpoints checkpoints\n",
    "\n",
    "# Verify setup\n",
    "!ls -la"
   ]
  },
  {
   "cell_type": "code",
   "execution_count": null,
   "metadata": {
    "id": "optimize_torch"
   },
   "source": [
    "# Configure PyTorch memory settings\n",
    "import os\n",
    "import torch\n",
    "\n",
    "# Set memory optimization\n",
    "os.environ['PYTORCH_CUDA_ALLOC_CONF'] = 'max_split_size_mb:32'\n",
    "\n",
    "# Clear CUDA cache\n",
    "torch.cuda.empty_cache()\n",
    "\n",
    "# Print GPU info\n",
    "if torch.cuda.is_available():\n",
    "    print(f\"GPU: {torch.cuda.get_device_name(0)}\")\n",
    "    print(f\"Total Memory: {torch.cuda.get_device_properties(0).total_memory / 1024**3:.1f}GB\")\n",
    "    print(f\"Memory Allocated: {torch.cuda.memory_allocated() / 1024**3:.1f}GB\")\n",
    "    print(f\"Memory Cached: {torch.cuda.memory_reserved() / 1024**3:.1f}GB\")\n",
    "else:\n",
    "    print(\"No GPU available!\")"
   ]
  },
  {
   "cell_type": "code",
   "execution_count": null,
   "metadata": {
    "id": "setup_data"
   },
   "source": [
    "# Check and setup data\n",
    "import os\n",
    "\n",
    "drive_data = '/content/drive/MyDrive/Sauti-Ya-Kenya/data'\n",
    "if not os.path.exists(drive_data) or not os.listdir(drive_data):\n",
    "    print(\"No data found. Please upload data.zip when prompted.\")\n",
    "    from google.colab import files\n",
    "    uploaded = files.upload()\n",
    "    \n",
    "    if 'data.zip' in uploaded:\n",
    "        !unzip data.zip -d {drive_data}\n",
    "        print(\"\\nData files:\")\n",
    "        !ls -R {drive_data}\n",
    "    else:\n",
    "        raise ValueError(\"Please upload data.zip\")\n",
    "else:\n",
    "    print(\"Found existing data:\")\n",
    "    !ls -R {drive_data}"
   ]
  },
  {
   "cell_type": "code",
   "execution_count": null,
   "metadata": {
    "id": "preprocess"
   },
   "source": [
    "# Preprocess data if needed\n",
    "if not os.path.exists('processed_data'):\n",
    "    print(\"Preprocessing data...\")\n",
    "    !python -m src.preprocess_data\n",
    "    print(\"\\nProcessed files:\")\n",
    "    !ls -R processed_data\n",
    "else:\n",
    "    print(\"Using existing preprocessed data\")"
   ]
  },
  {
   "cell_type": "code",
   "execution_count": null,
   "metadata": {
    "id": "find_checkpoint"
   },
   "source": [
    "# Find latest checkpoint\n",
    "import glob\n",
    "checkpoints = glob.glob(\"/content/drive/MyDrive/Sauti-Ya-Kenya/checkpoints/*.pt\")\n",
    "resume_path = None\n",
    "\n",
    "if checkpoints:\n",
    "    resume_path = max(checkpoints, key=os.path.getctime)\n",
    "    print(f\"Found checkpoint: {resume_path}\")\n",
    "    print(\"\\nAll checkpoints:\")\n",
    "    for cp in sorted(checkpoints):\n",
    "        size_mb = os.path.getsize(cp) / (1024 * 1024)\n",
    "        print(f\"- {os.path.basename(cp)} ({size_mb:.1f}MB)\")\n",
    "else:\n",
    "    print(\"No existing checkpoints. Starting fresh training.\")"
   ]
  },
  {
   "cell_type": "code",
   "execution_count": null,
   "metadata": {
    "id": "train"
   },
   "source": [
    "# Start training with memory optimization\n",
    "cmd = \"python -m src.train --batch_size 8 --grad_accum 4\"\n",
    "if resume_path:\n",
    "    cmd += f\" --resume {resume_path}\"\n",
    "\n",
    "print(f\"Running: {cmd}\")\n",
    "!{cmd}"
   ]
  }
 ],
 "metadata": {
  "accelerator": "GPU",
  "colab": {
   "collapsed_sections": [],
   "include_colab_link": true,
   "name": "Sauti Ya Kenya TTS Training",
   "provenance": []
  },
  "kernelspec": {
   "display_name": "Python 3",
   "name": "python3"
  }
 },
 "nbformat": 4,
 "nbformat_minor": 0
}
