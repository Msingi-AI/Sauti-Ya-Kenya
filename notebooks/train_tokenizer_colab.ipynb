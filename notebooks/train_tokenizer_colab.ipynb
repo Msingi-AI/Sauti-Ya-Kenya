{
 "cells": [
  {
   "cell_type": "markdown",
   "metadata": {},
   "source": [
    "# Train Swahili Tokenizer on Colab\n",
    "\n",
    "This notebook trains the tokenizer for Kenyan Swahili TTS with code-switching support."
   ]
  },
  {
   "cell_type": "code",
   "execution_count": null,
   "metadata": {},
   "source": [
    "# Mount Google Drive\n",
    "from google.colab import drive\n",
    "drive.mount('/content/drive')"
   ]
  },
  {
   "cell_type": "code",
   "execution_count": null,
   "metadata": {},
   "source": [
    "# Clone the repository\n",
    "!git clone https://github.com/Msingi-AI/Sauti-Ya-Kenya.git\n",
    "%cd Sauti-Ya-Kenya"
   ]
  },
  {
   "cell_type": "code",
   "execution_count": null,
   "metadata": {},
   "source": [
    "# Install requirements\n",
    "!pip install -r requirements.txt"
   ]
  },
  {
   "cell_type": "code",
   "execution_count": null,
   "metadata": {},
   "source": [
    "# Create symlink to data directory in Drive\n",
    "import os\n",
    "\n",
    "DRIVE_DATA_DIR = \"/content/drive/MyDrive/Sauti-Ya-Kenya/data\"\n",
    "LOCAL_DATA_DIR = \"data\"\n",
    "\n",
    "# Create data directory in Drive if it doesn't exist\n",
    "os.makedirs(DRIVE_DATA_DIR, exist_ok=True)\n",
    "\n",
    "# Create symlink\n",
    "if not os.path.exists(LOCAL_DATA_DIR):\n",
    "    !ln -s $DRIVE_DATA_DIR $LOCAL_DATA_DIR"
   ]
  },
  {
   "cell_type": "code",
   "execution_count": null,
   "metadata": {},
   "source": [
    "# Set up output directory in Drive\n",
    "DRIVE_OUTPUT_DIR = \"/content/drive/MyDrive/Sauti-Ya-Kenya/tokenizer\"\n",
    "os.makedirs(DRIVE_OUTPUT_DIR, exist_ok=True)"
   ]
  },
  {
   "cell_type": "code",
   "execution_count": null,
   "metadata": {},
   "source": [
    "# Train tokenizer\n",
    "!python src/train_tokenizer.py \\\n",
    "    --data-dir data/text \\\n",
    "    --output-dir $DRIVE_OUTPUT_DIR \\\n",
    "    --vocab-size 8000 \\\n",
    "    --min-length 3"
   ]
  },
  {
   "cell_type": "code",
   "execution_count": null,
   "metadata": {},
   "source": [
    "# Test the trained tokenizer\n",
    "from src.preprocessor import SwahiliTokenizer, TextPreprocessor\n",
    "\n",
    "tokenizer = SwahiliTokenizer.load(f\"{DRIVE_OUTPUT_DIR}/tokenizer.model\")\n",
    "preprocessor = TextPreprocessor(tokenizer)\n",
    "\n",
    "test_texts = [\n",
    "    \"Habari yako! How are you doing leo?\",\n",
    "    \"Niko sawa sana, asante.\",\n",
    "    \"Tutaonana kesho asubuhi.\"\n",
    "]\n",
    "\n",
    "for text in test_texts:\n",
    "    tokens = preprocessor.process_text(text)\n",
    "    print(f\"\\nInput: {text}\")\n",
    "    print(f\"Tokens: {tokens.token_ids.tolist()}\")\n",
    "    print(f\"Languages: {tokens.languages}\")"
   ]
  }
 ],
 "metadata": {
  "language_info": {
   "name": "python"
  }
 },
 "nbformat": 4,
 "nbformat_minor": 2
}
