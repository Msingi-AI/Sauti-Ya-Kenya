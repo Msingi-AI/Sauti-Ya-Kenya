{
 "cells": [
  {
   "cell_type": "markdown",
   "metadata": {
    "colab_type": "text",
    "id": "view-in-github"
   },
   "source": [
    "<a href=\"https://colab.research.google.com/github/Msingi-AI/Sauti-Ya-Kenya/blob/main/notebooks/train_on_colab.ipynb\" target=\"_parent\"><img src=\"https://colab.research.google.com/assets/colab-badge.svg\" alt=\"Open In Colab\"/></a>"
   ]
  },
  {
   "cell_type": "markdown",
   "metadata": {},
   "source": [
    "# Sauti Ya Kenya - TTS Model Training\n",
    "\n",
    "This notebook trains the Kenyan Swahili TTS model using Google Colab's GPU resources."
   ]
  },
  {
   "cell_type": "code",
   "execution_count": null,
   "metadata": {
    "id": "setup_drive"
   },
   "source": [
    "# Mount Google Drive\n",
    "from google.colab import drive\n",
    "drive.mount('/content/drive')\n",
    "\n",
    "# Create project directories in Drive\n",
    "!mkdir -p /content/drive/MyDrive/Sauti-Ya-Kenya\n",
    "!mkdir -p /content/drive/MyDrive/Sauti-Ya-Kenya/data\n",
    "!mkdir -p /content/drive/MyDrive/Sauti-Ya-Kenya/checkpoints"
   ]
  },
  {
   "cell_type": "code",
   "execution_count": null,
   "metadata": {
    "id": "clean_setup"
   },
   "source": [
    "# Clean up any existing symlinks or directories\n",
    "%cd /content\n",
    "!rm -rf Sauti-Ya-Kenya\n",
    "\n",
    "# Clone fresh repository\n",
    "!git clone https://github.com/Msingi-AI/Sauti-Ya-Kenya.git\n",
    "%cd Sauti-Ya-Kenya\n",
    "\n",
    "# Remove default directories that we'll replace with symlinks\n",
    "!rm -rf data checkpoints\n",
    "\n",
    "# Create symlinks to Drive\n",
    "!ln -s /content/drive/MyDrive/Sauti-Ya-Kenya/data data\n",
    "!ln -s /content/drive/MyDrive/Sauti-Ya-Kenya/checkpoints checkpoints\n",
    "\n",
    "# Install dependencies\n",
    "!pip install -r requirements.txt\n",
    "\n",
    "# Verify setup\n",
    "!ls -la"
   ]
  },
  {
   "cell_type": "code",
   "execution_count": null,
   "metadata": {
    "id": "setup_data"
   },
   "source": [
    "import os\n",
    "\n",
    "# Check for existing data\n",
    "drive_data = '/content/drive/MyDrive/Sauti-Ya-Kenya/data'\n",
    "if not os.listdir(drive_data):\n",
    "    print(\"No data found in Drive. Please upload data.zip when prompted.\")\n",
    "    from google.colab import files\n",
    "    uploaded = files.upload()\n",
    "    \n",
    "    # Extract to Drive\n",
    "    !unzip data.zip -d {drive_data}\n",
    "    print(\"\\nData files:\")\n",
    "    !ls -R {drive_data}\n",
    "else:\n",
    "    print(f\"Found existing data in Drive:\")\n",
    "    !ls -R {drive_data}"
   ]
  },
  {
   "cell_type": "code",
   "execution_count": null,
   "metadata": {
    "id": "verify_gpu"
   },
   "source": [
    "# Verify GPU is available\n",
    "import torch\n",
    "print(f\"CUDA available: {torch.cuda.is_available()}\")\n",
    "if torch.cuda.is_available():\n",
    "    print(f\"GPU: {torch.cuda.get_device_name(0)}\")\n",
    "    print(f\"Memory allocated: {torch.cuda.memory_allocated(0) / 1024**2:.1f}MB\")\n",
    "    print(f\"Memory cached: {torch.cuda.memory_reserved(0) / 1024**2:.1f}MB\")"
   ]
  },
  {
   "cell_type": "code",
   "execution_count": null,
   "metadata": {
    "id": "preprocess_data"
   },
   "source": [
    "# Preprocess the data if needed\n",
    "import os\n",
    "\n",
    "if not os.path.exists('processed_data'):\n",
    "    print(\"Preprocessing data...\")\n",
    "    !python -m src.preprocess_data\n",
    "else:\n",
    "    print(\"Found preprocessed data directory\")"
   ]
  },
  {
   "cell_type": "code",
   "execution_count": null,
   "metadata": {
    "id": "find_checkpoint"
   },
   "source": [
    "# Find latest checkpoint\n",
    "import glob\n",
    "checkpoints = glob.glob(\"/content/drive/MyDrive/Sauti-Ya-Kenya/checkpoints/*.pt\")\n",
    "resume_path = None\n",
    "\n",
    "if checkpoints:\n",
    "    resume_path = max(checkpoints, key=os.path.getctime)\n",
    "    print(f\"Found checkpoint: {resume_path}\")\n",
    "    print(\"\\nAll checkpoints:\")\n",
    "    for cp in checkpoints:\n",
    "        print(f\"- {os.path.basename(cp)}\")\n",
    "else:\n",
    "    print(\"No existing checkpoints found. Starting fresh training.\")"
   ]
  },
  {
   "cell_type": "code",
   "execution_count": null,
   "metadata": {
    "id": "train_model"
   },
   "source": [
    "# Start/resume training\n",
    "cmd = \"python -m src.train\"\n",
    "if resume_path:\n",
    "    cmd += f\" --resume {resume_path}\"\n",
    "!{cmd}"
   ]
  }
 ],
 "metadata": {
  "accelerator": "GPU",
  "colab": {
   "collapsed_sections": [],
   "include_colab_link": true,
   "name": "Kenyan Swahili TTS Training",
   "provenance": []
  },
  "kernelspec": {
   "display_name": "Python 3",
   "name": "python3"
  }
 },
 "nbformat": 4,
 "nbformat_minor": 0
}
