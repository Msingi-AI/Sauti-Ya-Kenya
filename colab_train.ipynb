{
 "cells": [
  {
   "cell_type": "markdown",
   "metadata": {},
   "source": [
    "# Kenyan Swahili TTS Model Training\n",
    "\n",
    "This notebook trains the FastSpeech 2 model for Kenyan Swahili text-to-speech synthesis using Google Colab's GPU."
   ]
  },
  {
   "cell_type": "code",
   "execution_count": null,
   "metadata": {},
   "source": [
    "# Mount Google Drive\n",
    "from google.colab import drive\n",
    "drive.mount('/content/drive')\n",
    "\n",
    "# Create project directory in Drive\n",
    "!mkdir -p /content/drive/MyDrive/Sauti-Ya-Kenya"
   ]
  },
  {
   "cell_type": "code",
   "execution_count": null,
   "metadata": {},
   "source": [
    "# Clone the repository if not already present\n",
    "import os\n",
    "if not os.path.exists('Sauti-Ya-Kenya'):\n",
    "    !git clone https://github.com/Msingi-AI/Sauti-Ya-Kenya.git\n",
    "%cd Sauti-Ya-Kenya"
   ]
  },
  {
   "cell_type": "code",
   "execution_count": null,
   "metadata": {},
   "source": [
    "# Install dependencies\n",
    "!pip install -r requirements.txt"
   ]
  },
  {
   "cell_type": "code",
   "execution_count": null,
   "metadata": {},
   "source": [
    "# Check for existing data and checkpoints in Drive\n",
    "import os\n",
    "drive_data = '/content/drive/MyDrive/Sauti-Ya-Kenya/data'\n",
    "drive_checkpoints = '/content/drive/MyDrive/Sauti-Ya-Kenya/checkpoints'\n",
    "\n",
    "if not os.path.exists(drive_data):\n",
    "    print(\"No data found in Drive. Please upload data.zip when prompted.\")\n",
    "    from google.colab import files\n",
    "    uploaded = files.upload()\n",
    "    \n",
    "    # Extract uploaded data to Drive\n",
    "    !unzip data.zip -d {drive_data}\n",
    "else:\n",
    "    print(\"Found existing data in Drive\")\n",
    "    \n",
    "# Create symbolic links\n",
    "!ln -s {drive_data} data\n",
    "!ln -s {drive_checkpoints} checkpoints"
   ]
  },
  {
   "cell_type": "code",
   "execution_count": null,
   "metadata": {},
   "source": [
    "# Check for CUDA\n",
    "import torch\n",
    "print(f\"CUDA available: {torch.cuda.is_available()}\")\n",
    "if torch.cuda.is_available():\n",
    "    print(f\"GPU: {torch.cuda.get_device_name(0)}\")"
   ]
  },
  {
   "cell_type": "code",
   "execution_count": null,
   "metadata": {},
   "source": [
    "# Find latest checkpoint\n",
    "import glob\n",
    "checkpoints = glob.glob(f\"{drive_checkpoints}/*.pt\")\n",
    "latest_checkpoint = None\n",
    "if checkpoints:\n",
    "    latest_checkpoint = max(checkpoints, key=os.path.getctime)\n",
    "    print(f\"Found checkpoint: {latest_checkpoint}\")\n",
    "else:\n",
    "    print(\"No existing checkpoints found. Starting fresh training.\")"
   ]
  },
  {
   "cell_type": "code",
   "execution_count": null,
   "metadata": {},
   "source": [
    "# Train the model\n",
    "cmd = \"python -m src.train\"\n",
    "if latest_checkpoint:\n",
    "    cmd += f\" --resume {latest_checkpoint}\"\n",
    "!{cmd}"
   ]
  }
 ],
 "metadata": {
  "accelerator": "GPU",
  "colab": {
   "name": "Kenyan Swahili TTS Training",
   "provenance": []
  },
  "kernelspec": {
   "display_name": "Python 3",
   "name": "python3"
  },
  "language_info": {
   "name": "python"
  }
 },
 "nbformat": 4,
 "nbformat_minor": 0
}
