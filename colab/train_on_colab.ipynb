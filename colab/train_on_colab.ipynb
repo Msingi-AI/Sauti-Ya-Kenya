{
 "cells": [
  {
   "cell_type": "markdown",
   "metadata": {
    "colab_type": "text",
    "id": "view-in-github"
   },
   "source": [
    "<a href=\"https://colab.research.google.com/github/Msingi-AI/Sauti-Ya-Kenya/blob/main/colab/train_on_colab.ipynb\" target=\"_parent\"><img src=\"https://colab.research.google.com/assets/colab-badge.svg\" alt=\"Open In Colab\"/></a>"
   ]
  },
  {
   "cell_type": "markdown",
   "metadata": {},
   "source": [
    "# Sauti Ya Kenya - Training on Google Colab\n",
    "\n",
    "This notebook sets up and runs the training process for the Kenyan Swahili TTS model using Google Colab's free GPU resources."
   ]
  },
  {
   "cell_type": "code",
   "execution_count": null,
   "metadata": {},
   "source": [
    "# Mount Google Drive\n",
    "from google.colab import drive\n",
    "drive.mount('/content/drive')"
   ]
  },
  {
   "cell_type": "code",
   "execution_count": null,
   "metadata": {},
   "source": [
    "# Clone the repository and set up environment\n",
    "!git clone https://github.com/Msingi-AI/Sauti-Ya-Kenya.git\n",
    "%cd Sauti-Ya-Kenya\n",
    "\n",
    "# Add src to Python path properly\n",
    "import os\n",
    "import sys\n",
    "module_path = os.path.abspath(os.path.join('src'))\n",
    "if module_path not in sys.path:\n",
    "    sys.path.insert(0, module_path)\n",
    "\n",
    "# Install dependencies\n",
    "!pip install -r requirements.txt"
   ]
  },
  {
   "cell_type": "code",
   "execution_count": null,
   "metadata": {},
   "source": [
    "# Set up directory structure and symlinks\n",
    "import os\n",
    "from pathlib import Path\n",
    "\n",
    "# Define directories\n",
    "DRIVE_BASE = \"/content/drive/MyDrive/sauti_ya_kenya\"\n",
    "DRIVE_DATA = f\"{DRIVE_BASE}/data\"\n",
    "DRIVE_CHECKPOINTS = f\"{DRIVE_BASE}/checkpoints\"\n",
    "DRIVE_TOKENIZER = f\"{DRIVE_BASE}/tokenizer\"\n",
    "\n",
    "# Create directories in Drive\n",
    "for d in [DRIVE_DATA, DRIVE_CHECKPOINTS, DRIVE_TOKENIZER]:\n",
    "    os.makedirs(d, exist_ok=True)\n",
    "\n",
    "# Create symlinks\n",
    "symlinks = {\n",
    "    'data': DRIVE_DATA,\n",
    "    'checkpoints': DRIVE_CHECKPOINTS,\n",
    "    'data/tokenizer': DRIVE_TOKENIZER\n",
    "}\n",
    "\n",
    "for local_path, drive_path in symlinks.items():\n",
    "    if os.path.exists(local_path):\n",
    "        if os.path.islink(local_path):\n",
    "            os.unlink(local_path)\n",
    "        else:\n",
    "            !rm -rf {local_path}\n",
    "    os.symlink(drive_path, local_path)"
   ]
  },
  {
   "cell_type": "code",
   "execution_count": null,
   "metadata": {},
   "source": [
    "# Copy src directory to make imports work\n",
    "!cp -r src/* .\n",
    "\n",
    "# Verify data and tokenizer\n",
    "from preprocessor import SwahiliTokenizer\n",
    "from pathlib import Path\n",
    "\n",
    "def verify_setup():\n",
    "    # Check tokenizer\n",
    "    tokenizer_path = Path('data/tokenizer/tokenizer.model')\n",
    "    if not tokenizer_path.exists():\n",
    "        print(\"Tokenizer not found! Please train tokenizer first using train_tokenizer.py\")\n",
    "        return False\n",
    "        \n",
    "    # Check processed data\n",
    "    data_path = Path('data/processed')\n",
    "    if not data_path.exists() or not any(data_path.iterdir()):\n",
    "        print(\"Processed data not found! Please run preprocessing first\")\n",
    "        return False\n",
    "        \n",
    "    return True\n",
    "\n",
    "if not verify_setup():\n",
    "    raise RuntimeError(\"Setup verification failed! Please ensure data is preprocessed and tokenizer is trained.\")"
   ]
  },
  {
   "cell_type": "code",
   "execution_count": null,
   "metadata": {},
   "source": [
    "# Configure GPU and memory settings\n",
    "import torch\n",
    "torch.cuda.empty_cache()\n",
    "\n",
    "if torch.cuda.is_available():\n",
    "    device = torch.device('cuda')\n",
    "    torch.backends.cudnn.benchmark = True\n",
    "    torch.backends.cuda.matmul.allow_tf32 = True\n",
    "    print(f\"Using GPU: {torch.cuda.get_device_name()}\")\n",
    "else:\n",
    "    raise RuntimeError(\"No GPU available!\")"
   ]
  },
  {
   "cell_type": "code",
   "execution_count": null,
   "metadata": {},
   "source": [
    "# Start training with memory optimizations\n",
    "!python train.py \\\n",
    "    --batch_size 8 \\\n",
    "    --grad_acc_steps 4 \\\n",
    "    --checkpoint_dir checkpoints \\\n",
    "    --data_dir data/processed \\\n",
    "    --epochs 100 \\\n",
    "    --save_every 5"
   ]
  }
 ],
 "metadata": {
  "accelerator": "GPU",
  "colab": {
   "gpuType": "T4",
   "include_colab_link": true
  },
  "kernelspec": {
   "display_name": "Python 3",
   "name": "python3"
  }
 },
 "nbformat": 4,
 "nbformat_minor": 0
}
