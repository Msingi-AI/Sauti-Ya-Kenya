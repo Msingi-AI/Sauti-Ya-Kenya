{
 "cells": [
  {
   "cell_type": "markdown",
   "metadata": {},
   "source": [
    "# Sauti Ya Kenya - TTS Training\n",
    "\n",
    "This notebook sets up the training environment for our Swahili TTS model.\n",
    "\n",
    "## Setup Steps:\n",
    "1. Clone repository and install dependencies\n",
    "2. Download and prepare dataset\n",
    "3. Run data augmentation\n",
    "4. Train model\n",
    "5. Evaluate and save model"
   ]
  },
  {
   "cell_type": "code",
   "execution_count": null,
   "metadata": {},
   "source": [
    "# Mount Google Drive for persistent storage\n",
    "from google.colab import drive\n",
    "drive.mount('/content/drive')"
   ]
  },
  {
   "cell_type": "code",
   "execution_count": null,
   "metadata": {},
   "source": [
    "# Clone repository\n",
    "!git clone https://github.com/Msingi-AI/Sauti-Ya-Kenya.git\n",
    "%cd Sauti-Ya-Kenya\n",
    "\n",
    "# Install dependencies\n",
    "!pip install -r requirements.txt"
   ]
  },
  {
   "cell_type": "code",
   "execution_count": null,
   "metadata": {},
   "source": [
    "# Download Mozilla Common Voice dataset\n",
    "# Note: You'll need to manually upload your local dataset\n",
    "!mkdir -p cv-corpus-21.0-delta-2025-03-14/sw/clips\n",
    "\n",
    "# Upload your local dataset files here\n",
    "from google.colab import files\n",
    "print(\"Please upload your dataset files:\")\n",
    "print(\"1. validated_sentences.tsv\")\n",
    "print(\"2. clip_durations.tsv\")\n",
    "print(\"3. clips/ directory (as zip)\")\n",
    "\n",
    "uploaded = files.upload()\n",
    "\n",
    "# Extract clips\n",
    "!unzip clips.zip -d cv-corpus-21.0-delta-2025-03-14/sw/clips/"
   ]
  },
  {
   "cell_type": "code",
   "execution_count": null,
   "metadata": {},
   "source": [
    "# Process dataset\n",
    "!python src/prepare_local_dataset.py \\\n",
    "    --dataset_path \"cv-corpus-21.0-delta-2025-03-14/sw\" \\\n",
    "    --output_dir \"processed_data\" \\\n",
    "    --clips_path \"clips\" \\\n",
    "    --sentences_file \"validated_sentences.tsv\" \\\n",
    "    --durations_file \"clip_durations.tsv\""
   ]
  },
  {
   "cell_type": "code",
   "execution_count": null,
   "metadata": {},
   "source": [
    "# Run data augmentation\n",
    "!python src/augment_data.py \\\n",
    "    --data_dir \"processed_data\" \\\n",
    "    --output_dir \"augmented_data\" \\\n",
    "    --num_augmentations 3"
   ]
  },
  {
   "cell_type": "code",
   "execution_count": null,
   "metadata": {},
   "source": [
    "# Set up training configuration\n",
    "import torch\n",
    "import json\n",
    "\n",
    "config = {\n",
    "    \"train_data_dir\": \"augmented_data\",\n",
    "    \"batch_size\": 32,\n",
    "    \"learning_rate\": 0.001,\n",
    "    \"num_epochs\": 100,\n",
    "    \"save_every\": 10,\n",
    "    \"device\": \"cuda\" if torch.cuda.is_available() else \"cpu\",\n",
    "    \"max_len\": 10000,  # Based on our previous configuration\n",
    "    \"checkpoint_dir\": \"checkpoints\"\n",
    "}\n",
    "\n",
    "with open('config.json', 'w') as f:\n",
    "    json.dump(config, f, indent=2)\n",
    "\n",
    "print(f\"Using device: {config['device']}\")"
   ]
  },
  {
   "cell_type": "code",
   "execution_count": null,
   "metadata": {},
   "source": [
    "# Start training\n",
    "!python src/train.py --config config.json"
   ]
  },
  {
   "cell_type": "code",
   "execution_count": null,
   "metadata": {},
   "source": [
    "# Run evaluation\n",
    "!python src/evaluation.py \\\n",
    "    --model_path \"checkpoints/best.pt\" \\\n",
    "    --test_data \"augmented_data/test\" \\\n",
    "    --output_dir \"evaluation_results\""
   ]
  },
  {
   "cell_type": "code",
   "execution_count": null,
   "metadata": {},
   "source": [
    "# Save model to Google Drive\n",
    "import shutil\n",
    "import os\n",
    "\n",
    "drive_path = \"/content/drive/MyDrive/Sauti-Ya-Kenya/models\"\n",
    "os.makedirs(drive_path, exist_ok=True)\n",
    "\n",
    "# Copy best model\n",
    "shutil.copy(\"checkpoints/best.pt\", f\"{drive_path}/best.pt\")\n",
    "\n",
    "# Save evaluation results\n",
    "shutil.copytree(\"evaluation_results\", f\"{drive_path}/evaluation_results\", dirs_exist_ok=True)\n",
    "\n",
    "print(\"Model and evaluation results saved to Google Drive\")"
   ]
  }
 ],
 "metadata": {
  "accelerator": "GPU",
  "colab": {
   "name": "train_tts.ipynb",
   "provenance": []
  },
  "kernelspec": {
   "display_name": "Python 3",
   "name": "python3"
  },
  "language_info": {
   "name": "python",
   "version": "3.12.0"
  }
 },
 "nbformat": 4,
 "nbformat_minor": 0
}
