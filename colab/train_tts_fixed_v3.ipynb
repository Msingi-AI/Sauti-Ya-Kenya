{
 "cells": [
  {
   "cell_type": "markdown",
   "metadata": {
    "colab_type": "text",
    "id": "view-in-github"
   },
   "source": [
    "<a href=\"https://colab.research.google.com/github/Msingi-AI/Sauti-Ya-Kenya/blob/main/colab/train_tts_fixed_v3.ipynb\" target=\"_parent\"><img src=\"https://colab.research.google.com/assets/colab-badge.svg\" alt=\"Open In Colab\"/></a>\n",
    "\n",
    "# Sauti Ya Kenya - Training on Google Colab\n",
    "\n",
    "## Setup Instructions\n",
    "1. Create this folder structure in your Google Drive:\n",
    "```\n",
    "sauti_ya_kenya/\n",
    "├── data/\n",
    "│   └── processed/  <- Copy your processed data here\n",
    "└── tokenizer/      <- Copy your tokenizer.model here\n",
    "```\n",
    "\n",
    "2. Run all cells in sequence"
   ]
  },
  {
   "cell_type": "code",
   "execution_count": null,
   "metadata": {},
   "source": [
    "# Mount Google Drive\n",
    "from google.colab import drive\n",
    "drive.mount('/content/drive')"
   ]
  },
  {
   "cell_type": "code",
   "execution_count": null,
   "metadata": {},
   "source": [
    "# Fix NumPy version issue first\n",
    "!pip uninstall -y numpy\n",
    "!pip install 'numpy<2.0.0'\n",
    "\n",
    "# Clean any existing repo\n",
    "!rm -rf /content/Sauti-Ya-Kenya\n",
    "\n",
    "# Clone repository and install dependencies\n",
    "!git clone https://github.com/Msingi-AI/Sauti-Ya-Kenya.git\n",
    "%cd Sauti-Ya-Kenya\n",
    "!pip install -r requirements.txt"
   ]
  },
  {
   "cell_type": "code",
   "execution_count": null,
   "metadata": {},
   "source": [
    "# Set up directory structure\n",
    "import os\n",
    "import shutil\n",
    "from pathlib import Path\n",
    "\n",
    "# Create data structure\n",
    "!mkdir -p data/processed data/tokenizer\n",
    "\n",
    "# Copy data from Drive\n",
    "DRIVE_PATH = \"/content/drive/MyDrive/sauti_ya_kenya\"\n",
    "\n",
    "# Copy processed data\n",
    "!cp -r \"{DRIVE_PATH}/data/processed/*\" data/processed/\n",
    "\n",
    "# Copy tokenizer\n",
    "!cp -r \"{DRIVE_PATH}/tokenizer/*\" data/tokenizer/\n",
    "\n",
    "# Verify files\n",
    "print(\"\\nChecking data structure:\")\n",
    "!ls -R data/"
   ]
  },
  {
   "cell_type": "code",
   "execution_count": null,
   "metadata": {},
   "source": [
    "# Create __init__.py to make src a package\n",
    "!touch src/__init__.py\n",
    "\n",
    "# Add src to Python path\n",
    "import sys\n",
    "sys.path.insert(0, os.path.abspath('src'))\n",
    "\n",
    "# Fix imports in train.py\n",
    "with open('src/train.py', 'r') as f:\n",
    "    content = f.read()\n",
    "\n",
    "# Fix relative imports\n",
    "content = content.replace('from .model', 'from model')\n",
    "content = content.replace('from .preprocessor', 'from preprocessor')\n",
    "\n",
    "with open('src/train.py', 'w') as f:\n",
    "    f.write(content)\n",
    "\n",
    "print(\"Fixed imports in train.py\")"
   ]
  },
  {
   "cell_type": "code",
   "execution_count": null,
   "metadata": {},
   "source": [
    "# Configure GPU\n",
    "import torch\n",
    "torch.cuda.empty_cache()\n",
    "\n",
    "if torch.cuda.is_available():\n",
    "    device = torch.device('cuda')\n",
    "    torch.backends.cudnn.benchmark = True\n",
    "    torch.backends.cuda.matmul.allow_tf32 = True\n",
    "    print(f\"Using GPU: {torch.cuda.get_device_name()}\")\n",
    "    print(f\"GPU Memory: {torch.cuda.get_device_properties(0).total_memory / 1024**3:.1f}GB\")\n",
    "else:\n",
    "    raise RuntimeError(\"No GPU available!\")"
   ]
  },
  {
   "cell_type": "code",
   "execution_count": null,
   "metadata": {},
   "source": [
    "# Start training\n",
    "!python src/train.py \\\n",
    "    --batch_size 8 \\\n",
    "    --grad_accum 4 \\\n",
    "    --checkpoint_dir checkpoints \\\n",
    "    --data_dir data/processed \\\n",
    "    --epochs 100 \\\n",
    "    --save_every 5"
   ]
  },
  {
   "cell_type": "code",
   "execution_count": null,
   "metadata": {},
   "source": [
    "# Copy checkpoints back to Drive\n",
    "!mkdir -p \"{DRIVE_PATH}/checkpoints\"\n",
    "!cp -r checkpoints/* \"{DRIVE_PATH}/checkpoints/\"\n",
    "print(\"\\nSaved checkpoints to Drive:\")\n",
    "!ls -l \"{DRIVE_PATH}/checkpoints/\""
   ]
  }
 ],
 "metadata": {
  "accelerator": "GPU",
  "colab": {
   "gpuType": "T4",
   "include_colab_link": true
  },
  "kernelspec": {
   "display_name": "Python 3",
   "name": "python3"
  }
 },
 "nbformat": 4,
 "nbformat_minor": 0
}
